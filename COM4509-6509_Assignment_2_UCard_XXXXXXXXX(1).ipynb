{
 "cells": [
  {
   "cell_type": "markdown",
   "metadata": {},
   "source": [
    "# Assignment 2 Brief \n",
    "\n",
    "## Deadline: Tuesday, December 3, 2019 at 14:00 hrs\n",
    "\n",
    "## Number of marks available: 20\n",
    "\n",
    "## Scope: Sessions 6 to 9\n",
    "\n",
    "## 1. Instructions\n",
    "### How and what to submit\n",
    "\n",
    "A. Submit a Jupyter Notebook named COM4509-6509_Assignment_2_UCard_XXXXXXXXX.ipynb where XXXXXXXXX refers to your UCard number.\n",
    "\n",
    "B. Upload the notebook file to MOLE before the deadline above.\n",
    "\n",
    "C. **NO DATA UPLOAD**: Please do not upload the data files used. We have a copy already. \n",
    "\n",
    "\n",
    "### Assessment Criteria \n",
    "\n",
    "* Being able to manipulate a dataset by generating sythetic data and extracting a particular subset. \n",
    "\n",
    "* Being able to build and train different machine learning models with tunable hyperparameters to optimise given evaluation metric.\n",
    "\n",
    "* Being able to compare different machine learning models and explain interesting results observed. \n",
    "\n",
    "* Being able to follow examples in the lab and write code without the help of starter code.\n",
    "\n",
    "\n",
    "### Late submissions\n",
    "\n",
    "We follow Department's guidelines about late submissions, i.e., a deduction of 5% of the mark each working day the work is late after the deadline. NO late submission will be marked one week after the deadline because we will release a solution by then. Please read [this link](https://sites.google.com/sheffield.ac.uk/compgtstudenthandbook/menu/assessment/late-submission?pli=1&authuser=1). \n",
    "\n",
    "### Use of unfair means \n",
    "\n",
    "**\"Any form of unfair means is treated as a serious academic offence and action may be taken under the Discipline Regulations.\"** (from the MSc Handbook). Please carefully read [this link](https://sites.google.com/sheffield.ac.uk/compgtstudenthandbook/menu/referencing-unfair-means?pli=1&authuser=1) on what constitutes Unfair Means if not sure."
   ]
  },
  {
   "cell_type": "markdown",
   "metadata": {},
   "source": [
    "# 2. Image classification and denoising\n",
    "\n",
    "### The CIFAR-10 dataset\n",
    "In this assignment, we will work on the [**CIFAR-10 dataset**](https://www.cs.toronto.edu/~kriz/cifar.html) collected by Alex Krizhevsky, Vinod Nair, and Geoffrey Hinton from the University of Toronto.  This dataset consists of 60000 32x32 colour images in 10 classes, with 6000 images per class. Each image is a 3-channel colour images of 32x32 pixels in size. There are 50000 training images and 10000 test images. \n",
    "\n",
    "\t\t\t\n",
    "### Question 1: Data loading and manipulation (4 marks)\n",
    "\n",
    "1a. **Download** both the training and test data of the CIFAR-10 dataset, e.g., by following the [pytorch CIFAR10 tutorial](https://pytorch.org/tutorials/beginner/blitz/cifar10_tutorial.html). You can also download via other ways if you prefer.\n",
    "\n",
    "1b. **Add random noise** to all training and test data to generate noisy dataset, e.g., by `torch.randn()`, with a scaling  factor `scale`, e.g., original image `+ scale * torch.randn()`, and **normalise/standardise** the pixel values to the **original range**, e.g.,  using `np.clip()`. You may choose any `scale` value between 0.2 and 0.5. \n",
    "\n",
    "**Note: Before generating the random noise, you MUST set the random seed to your UCard number XXXXXXXXX for reproducibility, e.g., using `torch.manual_seed()`. This seed needs to be used for all remaining code if there is randomness, for reproducibility.**\n",
    "\n",
    "1c. **Extract a subset** with only two classes: **Cat** and **Dog** and name it starting with **CatDog**.        \n",
    "\n",
    "1d. Show 10 pairs of original and noisy images of cats and 10 pairs of original and noisy images of dogs."
   ]
  },
  {
   "cell_type": "markdown",
   "metadata": {},
   "source": [
    "#### Question 1 Answer"
   ]
  },
  {
   "cell_type": "code",
   "execution_count": 1,
   "metadata": {},
   "outputs": [
    {
     "name": "stdout",
     "output_type": "stream",
     "text": [
      "Files already downloaded and verified\n",
      "Files already downloaded and verified\n"
     ]
    }
   ],
   "source": [
    "# Write the code for your answer here. You can use multiple cells to improve readability.\n",
    "import torch\n",
    "import torchvision\n",
    "import torchvision.transforms as transforms\n",
    "# import numpy as np\n",
    "\n",
    "transform = transforms.ToTensor()\n",
    "\n",
    "trainset = torchvision.datasets.CIFAR10(root='./data', train=True,\n",
    "                                        download=True, transform=transform)\n",
    "trainloader = torch.utils.data.DataLoader(trainset, batch_size=1,\n",
    "                                          shuffle=True, num_workers=2)\n",
    "\n",
    "testset = torchvision.datasets.CIFAR10(root='./data', train=False,\n",
    "                                       download=True, transform=transform)\n",
    "testloader = torch.utils.data.DataLoader(testset, batch_size=1,\n",
    "                                         shuffle=False, num_workers=2)\n",
    "\n",
    "classes = ('plane', 'car', 'bird', 'cat',\n",
    "           'deer', 'dog', 'frog', 'horse', 'ship', 'truck')"
   ]
  },
  {
   "cell_type": "code",
   "execution_count": 2,
   "metadata": {},
   "outputs": [],
   "source": [
    "\"\"\"\n",
    "1b. Add random noise\n",
    "1c. Extract a subset\n",
    "\"\"\"\n",
    "\n",
    "torch.manual_seed(1647052)\n",
    "scale = 0.5\n",
    "#image = image + (torch.rand(1)*scale)\n",
    "\n",
    "\"\"\"\n",
    "Images without noise \n",
    "\"\"\"\n",
    "train_images = []\n",
    "cat_images = []\n",
    "dog_images = []\n",
    "\n",
    "\"\"\"\n",
    "Images with noise \n",
    "\"\"\"\n",
    "train_images_noise = []\n",
    "cat_images_noise = []\n",
    "dog_images_noise = []\n",
    "\n",
    "\"\"\"\n",
    "Labels\n",
    "\"\"\"\n",
    "train_labels = []\n",
    "cat_labels = []\n",
    "dog_labels = []\n",
    "\n",
    "for data in trainloader:\n",
    "    image, label = data \n",
    "    train_images.append(image)\n",
    "    train_images_noise.append(image + (torch.rand(1)*scale))\n",
    "    train_labels.append(label)\n",
    "    if label == 3:\n",
    "        cat_images.append(image)\n",
    "        cat_images_noise.append(image + (torch.rand(1)*scale))\n",
    "        cat_labels.append(label)\n",
    "    elif label == 5:\n",
    "        dog_images.append(image)\n",
    "        dog_images_noise.append(image + (torch.rand(1)*scale))\n",
    "        dog_labels.append(label)\n",
    "        \n"
   ]
  },
  {
   "cell_type": "code",
   "execution_count": 3,
   "metadata": {},
   "outputs": [
    {
     "data": {
      "text/plain": [
       "<Figure size 640x480 with 1 Axes>"
      ]
     },
     "metadata": {},
     "output_type": "display_data"
    },
    {
     "data": {
      "text/plain": [
       "<Figure size 640x480 with 1 Axes>"
      ]
     },
     "metadata": {},
     "output_type": "display_data"
    },
    {
     "data": {
      "text/plain": [
       "<Figure size 640x480 with 1 Axes>"
      ]
     },
     "metadata": {},
     "output_type": "display_data"
    },
    {
     "data": {
      "text/plain": [
       "<Figure size 640x480 with 1 Axes>"
      ]
     },
     "metadata": {},
     "output_type": "display_data"
    },
    {
     "data": {
      "text/plain": [
       "<Figure size 640x480 with 1 Axes>"
      ]
     },
     "metadata": {},
     "output_type": "display_data"
    },
    {
     "data": {
      "text/plain": [
       "<Figure size 640x480 with 1 Axes>"
      ]
     },
     "metadata": {},
     "output_type": "display_data"
    },
    {
     "data": {
      "text/plain": [
       "<Figure size 640x480 with 1 Axes>"
      ]
     },
     "metadata": {},
     "output_type": "display_data"
    },
    {
     "data": {
      "text/plain": [
       "<Figure size 640x480 with 1 Axes>"
      ]
     },
     "metadata": {},
     "output_type": "display_data"
    },
    {
     "data": {
      "text/plain": [
       "<Figure size 640x480 with 1 Axes>"
      ]
     },
     "metadata": {},
     "output_type": "display_data"
    },
    {
     "data": {
      "text/plain": [
       "<Figure size 640x480 with 1 Axes>"
      ]
     },
     "metadata": {},
     "output_type": "display_data"
    },
    {
     "data": {
      "text/plain": [
       "<Figure size 640x480 with 1 Axes>"
      ]
     },
     "metadata": {},
     "output_type": "display_data"
    },
    {
     "data": {
      "text/plain": [
       "<Figure size 640x480 with 1 Axes>"
      ]
     },
     "metadata": {},
     "output_type": "display_data"
    },
    {
     "data": {
      "text/plain": [
       "<Figure size 640x480 with 1 Axes>"
      ]
     },
     "metadata": {},
     "output_type": "display_data"
    },
    {
     "data": {
      "text/plain": [
       "<Figure size 640x480 with 1 Axes>"
      ]
     },
     "metadata": {},
     "output_type": "display_data"
    },
    {
     "data": {
      "text/plain": [
       "<Figure size 640x480 with 1 Axes>"
      ]
     },
     "metadata": {},
     "output_type": "display_data"
    },
    {
     "data": {
      "text/plain": [
       "<Figure size 640x480 with 1 Axes>"
      ]
     },
     "metadata": {},
     "output_type": "display_data"
    },
    {
     "data": {
      "text/plain": [
       "<Figure size 640x480 with 1 Axes>"
      ]
     },
     "metadata": {},
     "output_type": "display_data"
    },
    {
     "data": {
      "text/plain": [
       "<Figure size 640x480 with 1 Axes>"
      ]
     },
     "metadata": {},
     "output_type": "display_data"
    },
    {
     "data": {
      "text/plain": [
       "<Figure size 640x480 with 1 Axes>"
      ]
     },
     "metadata": {},
     "output_type": "display_data"
    },
    {
     "data": {
      "text/plain": [
       "<Figure size 640x480 with 1 Axes>"
      ]
     },
     "metadata": {},
     "output_type": "display_data"
    }
   ],
   "source": [
    "\"\"\"\n",
    "1d. Show 10 pairs of original and noisy images of cats and 10 pairs of original and noisy images of dogs\n",
    "\n",
    "TO-DO original AND noisy images\n",
    "\"\"\"\n",
    "import matplotlib.pyplot as plt\n",
    "import numpy as np\n",
    "CatDog = cat_images + dog_images\n",
    "CatDogLabels = cat_labels + dog_labels\n",
    "\n",
    "def imshow(img):\n",
    "    img = img / 2 + 0.5     # unnormalize\n",
    "    npimg = img.numpy()\n",
    "    plt.imshow(np.transpose(npimg, (1, 2, 0)))\n",
    "    plt.show()\n",
    "\n",
    "for i in range(10):\n",
    "    imshow(torchvision.utils.make_grid(CatDog[i]))\n",
    "\n",
    "dogs = CatDog[-10:] \n",
    "\n",
    "for i in dogs:\n",
    "    imshow(torchvision.utils.make_grid(i))\n",
    "# # get some random training images\n",
    "# dataiter = iter(trainloader)\n",
    "# images, labels = dataiter.next()\n",
    "\n",
    "# # show images\n",
    "# imshow(torchvision.utils.make_grid(images))\n",
    "# # print labels\n",
    "# print(' '.join('%5s' % classes[labels[j]] for j in range(4)))\n"
   ]
  },
  {
   "cell_type": "markdown",
   "metadata": {},
   "source": [
    "### Question 2: Dimensionality reduction, binary classification, and evaluation (6 marks)\n",
    "\n",
    "This question uses the **CatDog** subset **with no noise added**.\n",
    "\n",
    "#### Training\n",
    "\n",
    "2a. Apply PCA on the training set to reduce the dimensionality. You need to study **at least seven** different values ($k_1, k_2, ..., k_7$) for the reduced dimensionality. **Explain** your choice.\n",
    "\n",
    "2b. Train **eight** Naive Bayes Classifiers (NBC): one on the original features (raw pixels), and seven on PCA features with seven different dimensions in 2a, i.e., NBC on $k_1$ PCA features; NBC on $k_2$ PCA features; ..., NBC on $k_7$ PCA features. You will need to decide on what Naive Bayes classifier (Gaussian? Multinomial? etc.) to use and **explain** your choice.\n",
    "\n",
    "#### Testing and evaluation\n",
    "2c. Evalaute the eight Naive Bayes classifiers on the test set in terms of **classification accuracy** and **visualise** their performance using a bar graph.\n",
    "\n",
    "2d. Plot the [ROC Curves](https://en.wikipedia.org/wiki/Receiver_operating_characteristic) in true positive rates vs false positive rates for the eight Naive Bayes classifiers in **one figure** using eight different line/marker styles clearly labelled. \n",
    "\n",
    "2e. Compute the [area under the ROC curve](https://en.wikipedia.org/wiki/Receiver_operating_characteristic#Area_under_the_curve) values for the eight Naive Bayes classifiers and visualise using a bar graph.\n",
    "\n",
    "2f. Describe **at least three** interesting observations from the evaluation results above. Each observation should have **3-5 sentences**. \n"
   ]
  },
  {
   "cell_type": "code",
   "execution_count": 74,
   "metadata": {},
   "outputs": [],
   "source": [
    "# Write the code for your answer here. You can use multiple cells to improve readability.\n",
    "\"\"\"\n",
    "2a. Apply PCA on the training set \n",
    "\"\"\"\n",
    "import numpy as np\n",
    "from sklearn.decomposition import PCA\n",
    "#convert CatDog to numpy array\n",
    "CatDog_stack = torch.stack(CatDog)\n",
    "CatDog_stack = np.squeeze(CatDog_stack.numpy())\n",
    "CatDog_pca = CatDog_stack.reshape(CatDog_stack.shape[0],-1)\n",
    "\n",
    "pca = PCA(svd_solver='randomized',\n",
    "          whiten=True).fit(CatDog_pca)"
   ]
  },
  {
   "cell_type": "code",
   "execution_count": 80,
   "metadata": {
    "scrolled": true
   },
   "outputs": [
    {
     "name": "stdout",
     "output_type": "stream",
     "text": [
      "[561, 376, 283, 225, 184, 154, 132]\n"
     ]
    }
   ],
   "source": [
    "eigenvectors_total_sum = sum(pca.explained_variance_)\n",
    "percentage_variance = [0.99,0.98,0.97,0.96,0.95,0.94,0.93]\n",
    "values_of_k = []\n",
    "for i in percentage_variance:\n",
    "    k = 0\n",
    "    current_eigenvectors_sum = 0\n",
    "    while(current_eigenvectors_sum / eigenvectors_total_sum <= i):\n",
    "        current_eigenvectors_sum += pca.explained_variance_[k]\n",
    "        k += 1\n",
    "    values_of_k.append(k)\n",
    "    \n",
    "print(values_of_k)"
   ]
  },
  {
   "cell_type": "markdown",
   "metadata": {},
   "source": [
    "I chose to use values of k that explained the following percentage of variance: 99%, 98%, 97%, 96%, 95%, 94%, 93%. This is because 93-99% is a high percentage of explained variance."
   ]
  },
  {
   "cell_type": "code",
   "execution_count": 81,
   "metadata": {},
   "outputs": [
    {
     "name": "stdout",
     "output_type": "stream",
     "text": [
      "[[0.31764707 0.3372549  0.36078432 ... 0.09411765 0.09411765 0.08627451]\n",
      " [0.4        0.34901962 0.3529412  ... 1.         1.         1.        ]\n",
      " [1.         1.         1.         ... 1.         1.         0.99607843]\n",
      " ...\n",
      " [0.6745098  0.67058825 0.6666667  ... 0.67058825 0.6627451  0.6392157 ]\n",
      " [0.         0.00784314 0.01960784 ... 0.2        0.18039216 0.18431373]\n",
      " [0.8745098  0.9098039  0.92941177 ... 0.07843138 0.07450981 0.0627451 ]]\n",
      "(10000, 3072) (10000,)\n"
     ]
    }
   ],
   "source": [
    "\"\"\"\n",
    "2b. Train eight Naive Bayes Classifiers (NBC)\n",
    "\"\"\"\n",
    "from sklearn.naive_bayes import MultinomialNB\n",
    "from sklearn.datasets import make_blobs\n",
    "\n",
    "CatDogLabels_nb = np.asarray(CatDogLabels)\n",
    "mnb = MultinomialNB()\n",
    "mnb1 = MultinomialNB()\n",
    "mnb2 = MultinomialNB()\n",
    "mnb3 = MultinomialNB()\n",
    "mnb4 = MultinomialNB()\n",
    "mnb5 = MultinomialNB()\n",
    "mnb6 = MultinomialNB()\n",
    "mnb7 = MultinomialNB()\n",
    "\n",
    "model = []\n",
    "#train with all features\n",
    "model_k0 = mnb.fit(CatDog_pca, CatDogLabels_nb)\n",
    "#train with k number of features\n",
    "model_k1 = mnb1.fit(CatDog_pca[:,:values_of_k[0]], CatDogLabels_nb)\n",
    "model_k2 = mnb2.fit(CatDog_pca[:,:values_of_k[1]], CatDogLabels_nb)\n",
    "model_k3 = mnb3.fit(CatDog_pca[:,:values_of_k[2]], CatDogLabels_nb)\n",
    "model_k4 = mnb4.fit(CatDog_pca[:,:values_of_k[3]], CatDogLabels_nb)\n",
    "model_k5 = mnb5.fit(CatDog_pca[:,:values_of_k[4]], CatDogLabels_nb)\n",
    "model_k6 = mnb6.fit(CatDog_pca[:,:values_of_k[5]], CatDogLabels_nb)\n",
    "model_k7 = mnb7.fit(CatDog_pca[:,:values_of_k[6]], CatDogLabels_nb)\n",
    "\n",
    "model.append(model_k1)\n",
    "model.append(model_k2)\n",
    "model.append(model_k3)\n",
    "model.append(model_k4)\n",
    "model.append(model_k5)\n",
    "model.append(model_k6)\n",
    "model.append(model_k7)\n",
    "print(CatDog_pca)\n",
    "\n",
    "print(CatDog_pca.shape, CatDogLabels_nb.shape)\n",
    "\n"
   ]
  },
  {
   "cell_type": "markdown",
   "metadata": {},
   "source": [
    "Gaussian Naive Bayes is used for continuous data and Multinomial Naive Bayes is used for discrete data. The RGB values are discrete since there are upper and lower limits to each RGB value. Therefore Multinomial Naive Bayes has been used for this data."
   ]
  },
  {
   "cell_type": "code",
   "execution_count": 77,
   "metadata": {},
   "outputs": [],
   "source": [
    "\"\"\"\n",
    "2c. Evalaute the eight Naive Bayes classifiers on the test set \n",
    "\"\"\"\n",
    "test_images = []\n",
    "test_labels = []\n",
    "for data in testloader:\n",
    "    image, label = data\n",
    "    if label == 3 or label == 5:\n",
    "        test_images.append(image)\n",
    "        test_labels.append(label)"
   ]
  },
  {
   "cell_type": "code",
   "execution_count": 82,
   "metadata": {},
   "outputs": [
    {
     "name": "stdout",
     "output_type": "stream",
     "text": [
      "(2000, 3072)\n",
      "0.567\n"
     ]
    }
   ],
   "source": [
    "from sklearn.metrics import accuracy_score\n",
    "\n",
    "test_images_stack = torch.stack(test_images)\n",
    "test_images_stack = np.squeeze(test_images_stack.numpy())\n",
    "test_images_pca = test_images_stack.reshape(test_images_stack.shape[0],-1)\n",
    "\n",
    "test_labels_nb = np.asarray(test_labels)\n",
    "\n",
    "print(test_images_pca.shape)\n",
    "\n",
    "initial_model_labels = model_k0.predict(test_images_pca)\n",
    "initial_accuracy = accuracy_score(test_labels_nb, initial_model_labels)\n",
    "\n",
    "print(initial_accuracy)\n",
    "accuracy = []\n",
    "#add the k value for all features to the start of values_of_k array \n",
    "#This is because this value will be used for model[0] (the model with all features)\n",
    "for i in range(len(model)):\n",
    "    model_labels = model[i].predict(test_images_pca[:,:values_of_k[i]])\n",
    "    acc = accuracy_score(test_labels_nb, model_labels)\n",
    "    accuracy.append(acc)\n",
    "\n",
    "#insert the initial_accuracy into the accuracy list\n",
    "accuracy.insert(0,initial_accuracy)\n",
    "\n",
    "\n"
   ]
  },
  {
   "cell_type": "code",
   "execution_count": 83,
   "metadata": {},
   "outputs": [
    {
     "data": {
      "image/png": "[encoded data removed]",
      "text/plain": [
       "<Figure size 432x288 with 1 Axes>"
      ]
     },
     "metadata": {
      "needs_background": "light"
     },
     "output_type": "display_data"
    }
   ],
   "source": [
    "import matplotlib.pyplot as plt\n",
    "\n",
    "x_axis = ['model_0','model_k1', 'model_k2', 'model_k3', 'model_k4', 'model_k5', 'model_k6', 'model_k7']\n",
    "x_pos = [i for i, _ in enumerate(x_axis)]\n",
    "plt.bar(x_pos, accuracy)\n",
    "plt.xlabel(\"Model\")\n",
    "plt.ylabel(\"Accuracy\")\n",
    "plt.title(\"Accuracy of the 8 models\")\n",
    "plt.show()"
   ]
  },
  {
   "cell_type": "code",
   "execution_count": 84,
   "metadata": {
    "scrolled": true
   },
   "outputs": [
    {
     "data": {
      "image/png": "[encoded data removed]",
      "text/plain": [
       "<Figure size 432x288 with 1 Axes>"
      ]
     },
     "metadata": {
      "needs_background": "light"
     },
     "output_type": "display_data"
    }
   ],
   "source": [
    "from sklearn.preprocessing import label_binarize\n",
    "from sklearn.metrics import roc_curve, auc\n",
    "y_true = label_binarize(test_labels_nb, classes=[0,1,2,3,4,5,6,7,8,9])\n",
    "y_pred = label_binarize(initial_model_labels, classes=[0,1,2,3,4,5,6,7,8,9])\n",
    "fpr, tpr, _ = roc_curve(y_true[:, 5], y_pred[:, 5])\n",
    "roc_auc = auc(fpr, tpr)\n",
    "\n",
    "plt.figure()\n",
    "lw = 2\n",
    "plt.plot(fpr, tpr, color='darkorange',\n",
    "         lw=lw, label='ROC curve (area = %0.2f)' % roc_auc)\n",
    "plt.plot([0, 1], [0, 1], color='navy', lw=lw, linestyle='--')\n",
    "plt.xlim([0.0, 1.0])\n",
    "plt.ylim([0.0, 1.05])\n",
    "plt.xlabel('False Positive Rate')\n",
    "plt.ylabel('True Positive Rate')\n",
    "plt.title('Receiver operating characteristic example')\n",
    "plt.legend(loc=\"lower right\")\n",
    "plt.show()"
   ]
  },
  {
   "cell_type": "code",
   "execution_count": 88,
   "metadata": {},
   "outputs": [
    {
     "name": "stdout",
     "output_type": "stream",
     "text": [
      "(2000, 2)\n",
      "Logistic: ROC AUC=0.614\n",
      "(2000,) (2000,)\n",
      "[0 0 0 0 0 1 0 0 0 0]\n"
     ]
    },
    {
     "data": {
      "image/png": "[encoded data removed]",
      "text/plain": [
       "<Figure size 432x288 with 1 Axes>"
      ]
     },
     "metadata": {
      "needs_background": "light"
     },
     "output_type": "display_data"
    }
   ],
   "source": [
    "\"\"\"\n",
    "2d. Plot the ROC Curves\n",
    "\"\"\"\n",
    "from sklearn.metrics import roc_curve, auc\n",
    "from sklearn.metrics import roc_auc_score\n",
    "lr_probs = model_k0.predict_proba(test_images_pca)\n",
    "print(lr_probs.shape)\n",
    "lr_probs = lr_probs[:, 1]\n",
    "# lr_auc = roc_auc_score(y_true, y_pred)\n",
    "print('Logistic: ROC AUC=%.3f' % (lr_auc))\n",
    "print(test_labels_nb.shape, lr_probs.shape)\n",
    "# roc_curve(y_test.ravel(), y_score.ravel())\n",
    "\n",
    "#draw a ROC curve by considering each element \n",
    "#of the label indicator matrix as a binary prediction (micro-averaging)\n",
    "lr_fpr, lr_tpr, _ = roc_curve(y_true.ravel(), y_pred.ravel())\n",
    "plt.figure()\n",
    "lw = 2\n",
    "plt.plot(lr_fpr, lr_tpr, color='darkorange',\n",
    "         lw=lw, label='ROC curve (area = %0.2f)' % roc_auc)\n",
    "plt.plot([0, 1], [0, 1], color='navy', lw=lw, linestyle='--')\n",
    "plt.xlim([0.0, 1.0])\n",
    "plt.ylim([0.0, 1.05])\n",
    "plt.xlabel('False Positive Rate')\n",
    "plt.ylabel('True Positive Rate')\n",
    "plt.title('Receiver operating characteristic example')\n",
    "plt.legend(loc=\"lower right\")\n",
    "plt.show()"
   ]
  },
  {
   "cell_type": "code",
   "execution_count": null,
   "metadata": {},
   "outputs": [],
   "source": [
    "import matplotlib.pyplot as plt\n",
    "from itertools import cycle\n",
    "\n",
    "from sklearn import svm, datasets\n",
    "from sklearn.metrics import roc_curve, auc\n",
    "from sklearn.model_selection import train_test_split\n",
    "from sklearn.preprocessing import label_binarize\n",
    "from sklearn.multiclass import OneVsRestClassifier\n",
    "from scipy import interp\n",
    "\n",
    "# Import some data to play with\n",
    "iris = datasets.load_iris()\n",
    "X = iris.data\n",
    "y = iris.target\n",
    "\n",
    "# Binarize the output\n",
    "y = label_binarize(y, classes=[0, 1, 2])\n",
    "n_classes = y.shape[1]\n",
    "\n",
    "# Add noisy features to make the problem harder\n",
    "random_state = np.random.RandomState(0)\n",
    "n_samples, n_features = X.shape\n",
    "X = np.c_[X, random_state.randn(n_samples, 200 * n_features)]\n",
    "\n",
    "# shuffle and split training and test sets\n",
    "X_train, X_test, y_train, y_test = train_test_split(X, y, test_size=.5,\n",
    "                                                    random_state=0)\n",
    "\n",
    "# Learn to predict each class against the other\n",
    "classifier = OneVsRestClassifier(svm.SVC(kernel='linear', probability=True,\n",
    "                                 random_state=random_state))\n",
    "y_score = classifier.fit(X_train, y_train).decision_function(X_test)\n",
    "\n",
    "# Compute ROC curve and ROC area for each class\n",
    "fpr = dict()\n",
    "tpr = dict()\n",
    "roc_auc = dict()\n",
    "for i in range(n_classes):\n",
    "    fpr[i], tpr[i], _ = roc_curve(y_test[:, i], y_score[:, i])\n",
    "    roc_auc[i] = auc(fpr[i], tpr[i])\n",
    "\n",
    "# Compute micro-average ROC curve and ROC area\n",
    "fpr[\"micro\"], tpr[\"micro\"], _ = roc_curve(y_test.ravel(), y_score.ravel())\n",
    "roc_auc[\"micro\"] = auc(fpr[\"micro\"], tpr[\"micro\"])\n",
    "\n",
    "print(y_score)"
   ]
  },
  {
   "cell_type": "code",
   "execution_count": null,
   "metadata": {},
   "outputs": [],
   "source": [
    "from sklearn.datasets import make_classification\n",
    "from sklearn.linear_model import LogisticRegression\n",
    "from sklearn.model_selection import train_test_split\n",
    "from sklearn.metrics import roc_curve\n",
    "from sklearn.metrics import roc_auc_score\n",
    "from matplotlib import pyplot\n",
    "# generate 2 class dataset\n",
    "X, y = make_classification(n_samples=1000, n_classes=2, random_state=1)\n",
    "# split into train/test sets\n",
    "trainX, testX, trainy, testy = train_test_split(X, y, test_size=0.5, random_state=2)\n",
    "# generate a no skill prediction (majority class)\n",
    "ns_probs = [0 for _ in range(len(testy))]\n",
    "# fit a model\n",
    "model = LogisticRegression(solver='lbfgs')\n",
    "model.fit(trainX, trainy)\n",
    "# predict probabilities\n",
    "lr_probs = model.predict_proba(testX)\n",
    "# keep probabilities for the positive outcome only\n",
    "lr_probs = lr_probs[:, 1]\n",
    "# calculate scores\n",
    "ns_auc = roc_auc_score(testy, ns_probs)\n",
    "lr_auc = roc_auc_score(testy, lr_probs)\n",
    "# summarize scores\n",
    "print('No Skill: ROC AUC=%.3f' % (ns_auc))\n",
    "print('Logistic: ROC AUC=%.3f' % (lr_auc))\n",
    "# calculate roc curves\n",
    "ns_fpr, ns_tpr, _ = roc_curve(testy, ns_probs)\n",
    "lr_fpr, lr_tpr, _ = roc_curve(testy, lr_probs)\n",
    "# plot the roc curve for the model\n",
    "pyplot.plot(ns_fpr, ns_tpr, linestyle='--', label='No Skill')\n",
    "pyplot.plot(lr_fpr, lr_tpr, marker='.', label='Logistic')\n",
    "# axis labels\n",
    "pyplot.xlabel('False Positive Rate')\n",
    "pyplot.ylabel('True Positive Rate')\n",
    "# show the legend\n",
    "pyplot.legend()\n",
    "# show the plot\n",
    "pyplot.show()"
   ]
  },
  {
   "cell_type": "code",
   "execution_count": null,
   "metadata": {},
   "outputs": [],
   "source": [
    "print(testy)\n",
    "print()"
   ]
  },
  {
   "cell_type": "markdown",
   "metadata": {},
   "source": [
    "### Question 3: Noisy data and multiclass classification (6 marks)\n",
    "\n",
    "#### Noisy **CatDog** subset.\n",
    "\n",
    "3a. Repeat 2a, 2b, and 2c on the noisy version of CatDog subset. Show the bar graph and compare it with that in 2c above. \n",
    "\n",
    "#### Multiclass classification using the original CIFAR-10 dataset (all 10 classes)\n",
    "\n",
    "3b. Apply PCA on the training set to reduce the dimensionality. You need to study at least **three** different values for the reduced dimensionality. Explain your choice.\n",
    "\n",
    "3c. Train nine classifers: **four Naive Bayes** classifiers(one on the original features, and three on PCA features with three different dimensions in 3b); **four Logistic Regression** classifiers (one on the original features, and three on PCA features with three different dimensions in 3b); and one **Convoluational Neural Network** as defined in the [pytorch CIFAR10 tutorial](https://pytorch.org/tutorials/beginner/blitz/cifar10_tutorial.html).\n",
    "\n",
    "3d. Evalaute the nine classifiers on the test set. Summarise the **classification accuracy**, **total training time**, and **total test time** using three bar graphs.\n",
    "\n",
    "3e. Show the confusion matrix for these nine classifiers (see Lab 8 - 1.4).\n",
    "\n",
    "3f. Describe **at least three** interesting observations from the evaluation results above. Each observation should have **3-5 sentences**. "
   ]
  },
  {
   "cell_type": "code",
   "execution_count": 10,
   "metadata": {},
   "outputs": [],
   "source": [
    "# Write the code for your answer here. You can use multiple cells to improve readability."
   ]
  },
  {
   "cell_type": "markdown",
   "metadata": {},
   "source": [
    "### Question 4: Denoising Autoencoder (4 marks)\n",
    "\n",
    "This question uses both the original and noisy CIFAR-10 datasets (all 10 classes).\n",
    "\n",
    "Read about denoising autoencoder at [Wikepedia](https://en.wikipedia.org/wiki/Autoencoder#Denoising_autoencoder_(DAE)) and this [short introduction](https://towardsdatascience.com/denoising-autoencoders-explained-dbb82467fc2) or any other sources you like.\n",
    "\n",
    "4a. Modify the autoencoder architecture in Lab 7 so that it takes colour images as input (i.e., 3 input channels). \n",
    "\n",
    "4b. **Training**: feed the **noisy training images** as input to the autoencoder in 4a; use a loss function that computes the reconstruction error between the **output of the autoencoder** and the respective **original images**.\n",
    "\n",
    "4c. **Testing**: evaluate the autoencoder trained in 4b on the test datasets (feed noisy images in and compute reconstruction errors on original clean images. Find the **worstly denoised** 30 images (those with the largest reconstruction errors) in the test set and show them in pairs with the original images (60 images to show in total).\n",
    "\n",
    "4d. Choose at least two hyperparameters to vary. Study **at least three different choices** for each hyperparameter. When varying one hyperparameter, all the other hyperparameters can be fixed. Visualise the performance sensitivity with respect to these hyperparameters.\n",
    "\n",
    "4e. Describe **at least two** interesting observations from the evaluation results above. Each observation should have **3-5 sentences**. "
   ]
  },
  {
   "cell_type": "code",
   "execution_count": null,
   "metadata": {},
   "outputs": [],
   "source": [
    "# Write the code for your answer here. You can use multiple cells to improve readability."
   ]
  }
 ],
 "metadata": {
  "kernelspec": {
   "display_name": "Python 3",
   "language": "python",
   "name": "python3"
  },
  "language_info": {
   "codemirror_mode": {
    "name": "ipython",
    "version": 3
   },
   "file_extension": ".py",
   "mimetype": "text/x-python",
   "name": "python",
   "nbconvert_exporter": "python",
   "pygments_lexer": "ipython3",
   "version": "3.6.9"
  }
 },
 "nbformat": 4,
 "nbformat_minor": 2
}
